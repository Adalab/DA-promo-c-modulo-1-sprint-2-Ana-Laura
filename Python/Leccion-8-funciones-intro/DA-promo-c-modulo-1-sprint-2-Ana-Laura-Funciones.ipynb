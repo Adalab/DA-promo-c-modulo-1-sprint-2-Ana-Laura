{
 "cells": [
  {
   "cell_type": "markdown",
   "metadata": {},
   "source": [
    "1. Cread una función que reciba 2 números enteros en forma de string como entrada, \n",
    "y dé como resultado la suma (también en forma de string)\n",
    "\n",
    "Condiciones:\n",
    "\n",
    "Si los dos parámetros que recibe la función son strings vacíos la función nos debe devolver \"0\"\n",
    "\n",
    "Si el primer parámetro es un string vacío, la función nos devuelve el valor del segundo parámetro y viceversa."
   ]
  },
  {
   "cell_type": "markdown",
   "metadata": {},
   "source": [
    "Probad la función para las siguientes combinaciones de \"números\"\n",
    "\n",
    "\"4\",  \"5\" --> \"9\"\n",
    "\n",
    "\"34\", \"5\" --> \"39\"\n",
    "\n",
    "\"\", \"\" --> \"0\"\n",
    "\n",
    "\"2\", \"\" --> \"2\"\n",
    "\n",
    "\"-5\", \"3\" --> \"-2\""
   ]
  },
  {
   "cell_type": "code",
   "execution_count": 133,
   "metadata": {},
   "outputs": [],
   "source": [
    "def suma_string1(a,b):\n",
    "    if a == \"\" and b == \"\":\n",
    "        return \"0\"\n",
    "    elif a == \"\" and b != \"\":\n",
    "        return b\n",
    "    elif b == \"\" and a != \"\": \n",
    "        return a\n",
    "    else: \n",
    "        a = int(a)\n",
    "        b = int(b)\n",
    "    suma = str(a+b)\n",
    "    return suma"
   ]
  },
  {
   "cell_type": "code",
   "execution_count": 134,
   "metadata": {},
   "outputs": [
    {
     "data": {
      "text/plain": [
       "'9'"
      ]
     },
     "execution_count": 134,
     "metadata": {},
     "output_type": "execute_result"
    }
   ],
   "source": [
    "suma_string1(\"4\",\"5\")"
   ]
  },
  {
   "cell_type": "code",
   "execution_count": 135,
   "metadata": {},
   "outputs": [
    {
     "data": {
      "text/plain": [
       "'39'"
      ]
     },
     "execution_count": 135,
     "metadata": {},
     "output_type": "execute_result"
    }
   ],
   "source": [
    "suma_string1(\"34\",\"5\")"
   ]
  },
  {
   "cell_type": "code",
   "execution_count": 136,
   "metadata": {},
   "outputs": [
    {
     "data": {
      "text/plain": [
       "'0'"
      ]
     },
     "execution_count": 136,
     "metadata": {},
     "output_type": "execute_result"
    }
   ],
   "source": [
    "suma_string1(\"\",\"\")"
   ]
  },
  {
   "cell_type": "code",
   "execution_count": 137,
   "metadata": {},
   "outputs": [
    {
     "data": {
      "text/plain": [
       "'2'"
      ]
     },
     "execution_count": 137,
     "metadata": {},
     "output_type": "execute_result"
    }
   ],
   "source": [
    "suma_string1(\"2\",\"\")"
   ]
  },
  {
   "cell_type": "code",
   "execution_count": 138,
   "metadata": {},
   "outputs": [
    {
     "data": {
      "text/plain": [
       "'-2'"
      ]
     },
     "execution_count": 138,
     "metadata": {},
     "output_type": "execute_result"
    }
   ],
   "source": [
    "suma_string1(\"-5\",\"3\")"
   ]
  },
  {
   "cell_type": "markdown",
   "metadata": {},
   "source": [
    "2. El objetivo es comparar cada par de enteros de 2 listas, y devolver una nueva lista con el número mayor de la comapración.."
   ]
  },
  {
   "cell_type": "code",
   "execution_count": 41,
   "metadata": {},
   "outputs": [],
   "source": [
    "# Probad la función para las siguientes listas: \n",
    "\n",
    "arr1 = [13, 64, 15, 17, 88]\n",
    "arr2 = [23, 14, 53, 17, 80]\n",
    "resultado = [23, 64, 53, 17, 88]"
   ]
  },
  {
   "cell_type": "markdown",
   "metadata": {},
   "source": [
    "💡 Pista 💡 En Python existe el método zip."
   ]
  },
  {
   "cell_type": "code",
   "execution_count": 42,
   "metadata": {},
   "outputs": [],
   "source": [
    "def comparador(lista1, lista2):\n",
    "    maximos = []\n",
    "    for a, b in zip(lista1, lista2):\n",
    "        if a > b:\n",
    "            maximos.append(a)\n",
    "        else: \n",
    "            maximos.append(b)\n",
    "    return maximos"
   ]
  },
  {
   "cell_type": "code",
   "execution_count": 43,
   "metadata": {},
   "outputs": [
    {
     "data": {
      "text/plain": [
       "[23, 64, 53, 17, 88]"
      ]
     },
     "execution_count": 43,
     "metadata": {},
     "output_type": "execute_result"
    }
   ],
   "source": [
    "comparador(arr1,arr2)"
   ]
  },
  {
   "cell_type": "markdown",
   "metadata": {},
   "source": [
    "3. El objetivo de este ejercicio es convertir un string en un nuevo string en el que cada carácter del nuevo string es \"(\" si ese carácter aparece sólo una vez en el string original, o \")\" si ese carácter aparece más de una vez en el string. Nuestro código no tiene que ser case sensitive, es decir, si hay una letra en mayúscula y en minúscula cuenta como dos apariciones."
   ]
  },
  {
   "cell_type": "code",
   "execution_count": null,
   "metadata": {},
   "outputs": [],
   "source": [
    "Probad la función para los siguientes strings \n",
    "\n",
    "\"din\"      =>  \"(((\"\n",
    "\"recede\"   =>  \"()()()\"\n",
    "\"Success\"  =>  \")())())\"\n",
    "\"(( @\"     =>  \"))((\" \n",
    "\"Ocvl@GamFLAFkixkS\" => \"((()(()()))))(()(\""
   ]
  },
  {
   "cell_type": "code",
   "execution_count": 86,
   "metadata": {},
   "outputs": [],
   "source": [
    "def reemplazar(palabra, parentesis, parentesis2):\n",
    "    resultado = \"\" # esto tendría que ser una string\n",
    "    for letra in palabra:\n",
    "        if palabra.count(letra) >1:\n",
    "            resultado += parentesis\n",
    "        else:\n",
    "            resultado += parentesis2\n",
    "\n",
    "    return resultado\n"
   ]
  },
  {
   "cell_type": "code",
   "execution_count": 141,
   "metadata": {},
   "outputs": [
    {
     "data": {
      "text/plain": [
       "'((('"
      ]
     },
     "execution_count": 141,
     "metadata": {},
     "output_type": "execute_result"
    }
   ],
   "source": [
    "reemplazar(\"din\",\")\",\"(\")\n"
   ]
  },
  {
   "cell_type": "code",
   "execution_count": 143,
   "metadata": {},
   "outputs": [
    {
     "data": {
      "text/plain": [
       "'()()()'"
      ]
     },
     "execution_count": 143,
     "metadata": {},
     "output_type": "execute_result"
    }
   ],
   "source": [
    "reemplazar(\"recede\",\")\",\"(\")"
   ]
  },
  {
   "cell_type": "code",
   "execution_count": 144,
   "metadata": {},
   "outputs": [
    {
     "data": {
      "text/plain": [
       "')())())'"
      ]
     },
     "execution_count": 144,
     "metadata": {},
     "output_type": "execute_result"
    }
   ],
   "source": [
    "reemplazar(\"success\",\")\",\"(\")"
   ]
  },
  {
   "cell_type": "code",
   "execution_count": 145,
   "metadata": {},
   "outputs": [
    {
     "data": {
      "text/plain": [
       "'))(('"
      ]
     },
     "execution_count": 145,
     "metadata": {},
     "output_type": "execute_result"
    }
   ],
   "source": [
    "reemplazar(\"(( @\",\")\",\"(\")"
   ]
  },
  {
   "cell_type": "code",
   "execution_count": 146,
   "metadata": {},
   "outputs": [
    {
     "data": {
      "text/plain": [
       "'(((((((()(())(()('"
      ]
     },
     "execution_count": 146,
     "metadata": {},
     "output_type": "execute_result"
    }
   ],
   "source": [
    "reemplazar(\"Ocvl@GamFLAFkixkS\",\")\",\"(\")"
   ]
  },
  {
   "cell_type": "markdown",
   "metadata": {},
   "source": [
    "BONUS 4. A Pete le gusta hacer pasteles. Tiene algunas recetas e ingredientes. Desgraciadamente, no se le dan bien las matemáticas. ¿Puedes ayudarle a averiguar cuántas tartas puede hacer teniendo en cuenta sus recetas?"
   ]
  },
  {
   "cell_type": "code",
   "execution_count": null,
   "metadata": {},
   "outputs": [],
   "source": [
    "Escribid una función,  que tome la receta (diccionario) y los ingredientes disponibles (también un diccionario) y devuelva el número máximo de pasteles que Pete puede hornear (entero). Para simplificar, no hay unidades para las cantidades (por ejemplo, 1 libra de harina o 200 g de azúcar son simplemente 1 o 200). Los ingredientes que no están presentes en los diccionarios, pueden ser considerados como 0.\n",
    "\n",
    "```\n",
    "Probad con los siguientes diccionarios: \n",
    "\n",
    "RECETA {'flour': 500, 'sugar': 200, 'eggs': 1}, \n",
    "INGREDIENTES {'flour': 1200, 'sugar': 1200, 'eggs': 5, 'milk': 200}\n",
    "\n",
    "RESULTADO: 2 \n",
    "----------\n",
    "\n",
    "RECETA {'apples': 3, 'flour': 300, 'sugar': 150, 'milk': 100, 'oil': 100}\n",
    "INGREDIENTES {'sugar': 500, 'flour': 2000, 'milk': 2000}\n",
    "\n",
    "RESULTADO 0\n",
    "``` \n",
    "**Pista**: Nuestra función recibirá dos parámetros. "
   ]
  },
  {
   "cell_type": "code",
   "execution_count": null,
   "metadata": {},
   "outputs": [],
   "source": []
  },
  {
   "cell_type": "markdown",
   "metadata": {},
   "source": [
    "BONUS 5. Escribid una función que va a ser una calculadora. La lista recibirá dos parámetros, una lista de números y un string con la operación que queremos hacer (puede ser \"*\", \"+\")"
   ]
  },
  {
   "cell_type": "code",
   "execution_count": null,
   "metadata": {},
   "outputs": [],
   "source": [
    "``` \n",
    "Probad con los siguientes inputs\n",
    "\n",
    "lista1 = [11, 6, 98, 1, 2] , \"*\"\n",
    "RESULTADO 12936\n",
    "\n",
    "-----------------------------------\n",
    "lista2 = [23,34, 56, 11, 90] , \"+\"\n",
    "RESULTADO 214\n",
    "\n",
    "-----------------------------------\n",
    "lista3 = [23, 4,109 , 94, 77] , \"-\"\n",
    "RESULTADO 'Lo siento, necesito que me pases una operación valida.'\n",
    "```"
   ]
  },
  {
   "cell_type": "code",
   "execution_count": null,
   "metadata": {},
   "outputs": [],
   "source": []
  }
 ],
 "metadata": {
  "kernelspec": {
   "display_name": "Python 3.9.7 ('base')",
   "language": "python",
   "name": "python3"
  },
  "language_info": {
   "codemirror_mode": {
    "name": "ipython",
    "version": 3
   },
   "file_extension": ".py",
   "mimetype": "text/x-python",
   "name": "python",
   "nbconvert_exporter": "python",
   "pygments_lexer": "ipython3",
   "version": "3.9.7"
  },
  "orig_nbformat": 4,
  "vscode": {
   "interpreter": {
    "hash": "a132548e790cb25f951c67ed157520233be95043d6eb3836371ed4d98e90df31"
   }
  }
 },
 "nbformat": 4,
 "nbformat_minor": 2
}
