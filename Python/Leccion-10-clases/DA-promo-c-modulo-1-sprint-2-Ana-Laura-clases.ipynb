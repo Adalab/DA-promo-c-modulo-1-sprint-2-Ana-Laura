{
 "cells": [
  {
   "cell_type": "markdown",
   "metadata": {},
   "source": [
    "En este ejercicio de pair programming crearemos una clase. Imaginemos que nuestro jefe nos pide que creemos una clase para tener más ordenada la información sobre cada uno de los empleados de la empresa. Para ello:\n",
    "\n",
    "Definid una clase que se llame Empleados\n",
    "\n",
    "Definid los siguientes atributos que caracterizan a nuestros empleados:\n",
    "\n",
    "nombre\n",
    "\n",
    "apellido\n",
    "\n",
    "edad\n",
    "\n",
    "posición que ocupa en la empresa\n",
    "\n",
    "año en que entró en la empresa\n",
    "\n",
    "número de días de vacaciones que tiene\n",
    "\n",
    "Las herramientas que usa cada uno de ellos, por ejemplo, Outlook, excel y word. Deberá ser una lista.\n",
    "\n",
    "Cread una instancia para la clase creada\n",
    "\n",
    "Definid los siguientes métodos:\n",
    "\n",
    "descripción\n",
    "\n",
    "calculo_vacaciones\n",
    "\n",
    "cambiando_posicion"
   ]
  },
  {
   "cell_type": "markdown",
   "metadata": {},
   "source": [
    "Tips para definir los métodos:\n",
    "\n",
    "Método descripcion:\n",
    "\n",
    "El return deberá ser un string en el que aparezca el nombre, apellidos, los años que lleva en la empresa y los días de vacaciones que le quedan. Este método deberá devolver algo como esto:\n",
    "\n",
    "\"El/ella, es Lorena, Data Analyst, quien lleva con nostros en la empresa desde 2000. Además este año le quedan 15 dias de vacaciones\"\n",
    "\n",
    "Método calculo_vacaciones:\n",
    "\n",
    "Deberá contener input que nos pregunte cuántos días se fue determinada persona de vacaciones.\n",
    "\n",
    "Luego deberemos restar el número de días que se fue de vacaciones a el número total de vacaciones que tiene ese empleado.\n",
    "\n",
    "Una condición que chequee si:\n",
    "\n",
    "Si el numero de vacaciones que tiene el empleado es igual a 0, devolved un mensaje que diga que se le acabaron las vacaciones\n",
    "\n",
    "Si el número de días que se quiere ir de vacaciones es mayor que el número de vacaciones que le quedan, devolved un mensaje que diga que no se puede ir tantos de vacaciones\n",
    "\n",
    "En caso de que no se cumplan ninguna de estas condiciones, que nos devuelva el número de vacaciones que le quedan al empleado.\n",
    "\n",
    "Método cambiando_posicion:\n",
    "\n",
    "Iteraremos por la lista de herramientas que usa el empleado:\n",
    "\n",
    "Si el empleado usa \"Python\" devolveremos un mensaje de bien hecho!\n",
    "\n",
    "Si el empleado usa \"Excel\" le recomendaremos amigablemente que deje excel y empiece a usar Excel"
   ]
  },
  {
   "cell_type": "code",
   "execution_count": 12,
   "metadata": {},
   "outputs": [],
   "source": [
    "class Empleados:\n",
    "\n",
    "    def __init__(self, nombre, apellido, edad, posicion, año_inicio, vacaciones, herramientas):\n",
    "\n",
    "        self.nombre = nombre\n",
    "        self.apellido = apellido\n",
    "        self.edad = edad\n",
    "        self.posicion = posicion\n",
    "        self.año_inicio = año_inicio\n",
    "        self.vacaciones = vacaciones\n",
    "        self.herramientas = herramientas\n",
    "\n",
    "    def descripcion(self):\n",
    "        return f\"Ella es {self.nombre}, {self.posicion}, quien lleva con nosotros en la empresa desde {self.año_inicio}. Además este año le quedan {self.vacaciones} días de vacaciones.\"\n",
    "\n",
    "    def calculo_vacaciones(self):\n",
    "        dias_deseados = int(input(\"¿Cuántos días quieres de vacaciones?\"))\n",
    "        if self.vacaciones == 0:\n",
    "            return f\"Se te han acabado las vacaciones.\"\n",
    "        elif self.vacaciones < int(dias_deseados):\n",
    "            return f\"No te puedes ir tantos días.\"\n",
    "        else:\n",
    "             self.vacaciones = self.vacaciones - dias_deseados\n",
    "             return f\"Te quedan {self.vacaciones} de vacaciones\"\n",
    "    \n",
    "    def cambiando_posicion(self):\n",
    "        if \"Python\" in self.herramientas:\n",
    "            return f\"Muy bien hecho\"\n",
    "        elif \"Excel\" in self.herramientas:\n",
    "            return f\"Deja de usar excel, y usa Python.\""
   ]
  },
  {
   "cell_type": "code",
   "execution_count": 13,
   "metadata": {},
   "outputs": [],
   "source": [
    "marta = Empleados(\"Marta\", \"Garcia\", 26, \"data analyst\", 2015, 20, \"Python\")"
   ]
  },
  {
   "cell_type": "code",
   "execution_count": 14,
   "metadata": {},
   "outputs": [
    {
     "data": {
      "text/plain": [
       "'Ella es Marta, data analyst, quien lleva con nosotros en la empresa desde 2015. Además este año le quedan 20 días de vacaciones.'"
      ]
     },
     "execution_count": 14,
     "metadata": {},
     "output_type": "execute_result"
    }
   ],
   "source": [
    "marta.descripcion()"
   ]
  },
  {
   "cell_type": "code",
   "execution_count": 16,
   "metadata": {},
   "outputs": [
    {
     "data": {
      "text/plain": [
       "'No te puedes ir tantos días.'"
      ]
     },
     "execution_count": 16,
     "metadata": {},
     "output_type": "execute_result"
    }
   ],
   "source": [
    "marta.calculo_vacaciones()"
   ]
  },
  {
   "cell_type": "code",
   "execution_count": 17,
   "metadata": {},
   "outputs": [
    {
     "data": {
      "text/plain": [
       "'Muy bien hecho'"
      ]
     },
     "execution_count": 17,
     "metadata": {},
     "output_type": "execute_result"
    }
   ],
   "source": [
    "marta.cambiando_posicion()"
   ]
  }
 ],
 "metadata": {
  "kernelspec": {
   "display_name": "Python 3.9.7 ('base')",
   "language": "python",
   "name": "python3"
  },
  "language_info": {
   "codemirror_mode": {
    "name": "ipython",
    "version": 3
   },
   "file_extension": ".py",
   "mimetype": "text/x-python",
   "name": "python",
   "nbconvert_exporter": "python",
   "pygments_lexer": "ipython3",
   "version": "3.9.7"
  },
  "orig_nbformat": 4,
  "vscode": {
   "interpreter": {
    "hash": "a132548e790cb25f951c67ed157520233be95043d6eb3836371ed4d98e90df31"
   }
  }
 },
 "nbformat": 4,
 "nbformat_minor": 2
}
