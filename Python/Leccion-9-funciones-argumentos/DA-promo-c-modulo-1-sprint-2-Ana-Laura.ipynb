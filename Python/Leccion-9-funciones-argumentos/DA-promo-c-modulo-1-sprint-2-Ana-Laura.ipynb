{
 "cells": [
  {
   "cell_type": "markdown",
   "metadata": {},
   "source": [
    "1. Vamos a crear una \"Calculadora de puntos\". Tenéis que escribir una calculadora que reciba cadenas de caracteres como entrada. Los puntos representarán el número de la ecuación. Habrá puntos en un lado, un operador, y puntos de nuevo después del oparador. Los puntos y el operador estarán separados por un espacio.\n",
    "   \n",
    "Aquí os dejamos los operadores válidos:\n",
    "\n",
    "Suma\n",
    "\n",
    "Resta\n",
    "\n",
    "Multiplicación\n",
    "\n",
    "División entera\n",
    "\n",
    "Vuestro trabajo\n",
    "\n",
    "Tendréis que devolver un string que contenga puntos, tantos como devuelva la ecuación. Si el resultado es 0, devuelve la cadena vacía. Cuando se trata de una resta, el primer número siempre será mayor o igual que el segundo."
   ]
  },
  {
   "cell_type": "markdown",
   "metadata": {},
   "source": [
    "Probad la función con los siguientes casos: \n",
    "\n",
    "\"..... + ...............\" => \"....................\"\n",
    "\n",
    "\"..... - ...\" => \"..\"\n",
    "\n",
    "\"..... * ...\" => \"...............\"\n",
    "\n",
    "\"..... // ..\" => \"..\"\n",
    "\n",
    "\". // ..\" => \"\"\n",
    "\n",
    "\".. - ..\" => \"\""
   ]
  },
  {
   "cell_type": "code",
   "execution_count": 24,
   "metadata": {},
   "outputs": [],
   "source": [
    "# Definimos una operación que separe nuestra string por espacios, le pedimos que cuente la cantidad de números, \n",
    "# y que haga las operaciones con esos resultados. Finalmente le pedimos que transforme esos números en puntos.\n",
    "\n",
    "def calculadora(a):\n",
    "    \n",
    "    oper = a.split(\" \")\n",
    "\n",
    "    if oper[1] == \"+\":\n",
    "        resultado = len(oper[0])+len(oper[2])\n",
    "    elif oper[1] == \"*\":\n",
    "        resultado = len(oper[0])*len(oper[2])\n",
    "    elif oper[1] == \"-\":\n",
    "        resultado = len(oper[0])-len(oper[2])\n",
    "    elif oper[1] == \"//\":\n",
    "        resultado = len(oper[0])//len(oper[2])\n",
    "    return resultado * \".\""
   ]
  },
  {
   "cell_type": "code",
   "execution_count": 18,
   "metadata": {},
   "outputs": [
    {
     "data": {
      "text/plain": [
       "'....................'"
      ]
     },
     "execution_count": 18,
     "metadata": {},
     "output_type": "execute_result"
    }
   ],
   "source": [
    "calculadora(\"..... + ...............\")"
   ]
  },
  {
   "cell_type": "code",
   "execution_count": 19,
   "metadata": {},
   "outputs": [
    {
     "data": {
      "text/plain": [
       "'..'"
      ]
     },
     "execution_count": 19,
     "metadata": {},
     "output_type": "execute_result"
    }
   ],
   "source": [
    "calculadora(\"..... - ...\")"
   ]
  },
  {
   "cell_type": "code",
   "execution_count": 20,
   "metadata": {},
   "outputs": [
    {
     "data": {
      "text/plain": [
       "'...............'"
      ]
     },
     "execution_count": 20,
     "metadata": {},
     "output_type": "execute_result"
    }
   ],
   "source": [
    "calculadora(\"..... * ...\")"
   ]
  },
  {
   "cell_type": "code",
   "execution_count": 21,
   "metadata": {},
   "outputs": [
    {
     "data": {
      "text/plain": [
       "'..'"
      ]
     },
     "execution_count": 21,
     "metadata": {},
     "output_type": "execute_result"
    }
   ],
   "source": [
    "calculadora(\"..... // ..\")"
   ]
  },
  {
   "cell_type": "code",
   "execution_count": 22,
   "metadata": {},
   "outputs": [
    {
     "data": {
      "text/plain": [
       "''"
      ]
     },
     "execution_count": 22,
     "metadata": {},
     "output_type": "execute_result"
    }
   ],
   "source": [
    "calculadora(\". // ..\")"
   ]
  },
  {
   "cell_type": "code",
   "execution_count": 23,
   "metadata": {},
   "outputs": [
    {
     "data": {
      "text/plain": [
       "''"
      ]
     },
     "execution_count": 23,
     "metadata": {},
     "output_type": "execute_result"
    }
   ],
   "source": [
    "calculadora(\".. - ..\")"
   ]
  },
  {
   "cell_type": "markdown",
   "metadata": {},
   "source": [
    "2. Te despides de tu mejor amigo, \"Nos vemos el próximo año\".\n",
    "   \n",
    "   Vuestro trabajo: Dado un año, encuentra el próximo cumpleaños o el año más cercano en el que verás a tu mejor amigo.\n",
    "\n",
    "Condiciones:\n",
    "\n",
    "Año siempre positivo.\n",
    "\n",
    "El siguiente año que le felicites a tu mejor amigo no puede tener ningún dígito repetido."
   ]
  },
  {
   "cell_type": "markdown",
   "metadata": {},
   "source": [
    "\n",
    "Probad la función con los siguientes casos:\n",
    "​\n",
    "\n",
    "7712 ==> El siguiente año que felicitarás a tu amigo será el 7801. \n",
    "Por que es el siguiente año en el que no hay ninguún dígito repetido. \n",
    "\n",
    "\n",
    "1001 => 1023 \n",
    "​\n",
    "\n",
    "1123 => 1203\n",
    "​\n",
    "\n",
    "2001 => 2013"
   ]
  },
  {
   "cell_type": "code",
   "execution_count": 50,
   "metadata": {},
   "outputs": [],
   "source": [
    "# Creamos una función con while, porque mientras el número no sea diferente y con 4 dígitos, no nos interesa.\n",
    "# Debemos calcular el número de digitos, así que usamos len, y como no pueden ser repetidos, lo convertimos en un set.\n",
    "# Le pedimos que el nuevo año lo transforme en str porqué si no, no lo lee correctamente.\n",
    "# Como ningún digito puede estar repetido, le pedimos que le sume uno hasta conseguir el objetivo.\n",
    "\n",
    "def año_amigo(año):\n",
    "    nuevo_año = año + 1 \n",
    "    while len(set(str(nuevo_año))) < len(str(año)):\n",
    "        nuevo_año += 1\n",
    "    return nuevo_año\n"
   ]
  },
  {
   "cell_type": "code",
   "execution_count": 51,
   "metadata": {},
   "outputs": [
    {
     "data": {
      "text/plain": [
       "1023"
      ]
     },
     "execution_count": 51,
     "metadata": {},
     "output_type": "execute_result"
    }
   ],
   "source": [
    "año_amigo(1001)"
   ]
  },
  {
   "cell_type": "code",
   "execution_count": 52,
   "metadata": {},
   "outputs": [
    {
     "data": {
      "text/plain": [
       "1203"
      ]
     },
     "execution_count": 52,
     "metadata": {},
     "output_type": "execute_result"
    }
   ],
   "source": [
    "año_amigo(1123)"
   ]
  },
  {
   "cell_type": "code",
   "execution_count": 53,
   "metadata": {},
   "outputs": [
    {
     "data": {
      "text/plain": [
       "2013"
      ]
     },
     "execution_count": 53,
     "metadata": {},
     "output_type": "execute_result"
    }
   ],
   "source": [
    "año_amigo(2001)"
   ]
  },
  {
   "cell_type": "markdown",
   "metadata": {},
   "source": [
    "3. Tenéis que crear un función que chequee la vida de un evaporador que contiene un gas.\n",
    "Conocemos el contenido del evaporador (contenido en ml), el porcentaje de gas que se pierde cada día y el umbral en porcentaje a partir del cual el evaporador deja de ser útil. Todos los números serán estrictamente positivos.\n",
    "\n",
    "⚠️ Nota: el contenido no es, de hecho, necesario en el cuerpo de la función, podéis utilizarlo o no."
   ]
  },
  {
   "cell_type": "code",
   "execution_count": null,
   "metadata": {},
   "outputs": [],
   "source": [
    "Probad con los siguientes casos: \n",
    "\n",
    "10, 10, 5 => 29\n",
    "\n",
    "10, 10, 10 = > 22"
   ]
  },
  {
   "cell_type": "code",
   "execution_count": 56,
   "metadata": {},
   "outputs": [],
   "source": [
    "# Primero calculamos el umbral de pérdida al dia en ml, después le decimos que mientras tenga mas capacidad que el umbral, el evaporador sigue funcionando.\n",
    "# Le pedimos que calcule la perdida diaria de ese dia, que le reste el contenido que ya ha perdido y le sumamos un día.\n",
    "\n",
    "def vida(contenido, porcentaje, umbral):\n",
    "    dia = 0\n",
    "    umbral = contenido * umbral / 100\n",
    "    while contenido >= umbral:\n",
    "        perdida_diaria = porcentaje * contenido / 100\n",
    "        contenido = contenido - perdida_diaria\n",
    "        dia += 1\n",
    "    return dia\n"
   ]
  },
  {
   "cell_type": "code",
   "execution_count": 57,
   "metadata": {},
   "outputs": [
    {
     "data": {
      "text/plain": [
       "29"
      ]
     },
     "execution_count": 57,
     "metadata": {},
     "output_type": "execute_result"
    }
   ],
   "source": [
    "vida(10,10,5)"
   ]
  },
  {
   "cell_type": "code",
   "execution_count": 58,
   "metadata": {},
   "outputs": [
    {
     "data": {
      "text/plain": [
       "22"
      ]
     },
     "execution_count": 58,
     "metadata": {},
     "output_type": "execute_result"
    }
   ],
   "source": [
    "vida(10,10,10)"
   ]
  },
  {
   "cell_type": "markdown",
   "metadata": {},
   "source": [
    "4. Definid una función que tome como argumento un entero y devuelva True o False dependiendo de si el número es primo o no.\n",
    "   \n",
    "Según la Wikipedia, un número primo es un número natural mayor que 1 que no tiene divisores positivos más que 1 y él mismo."
   ]
  },
  {
   "cell_type": "code",
   "execution_count": null,
   "metadata": {},
   "outputs": [],
   "source": [
    "Probad la función con los siguientes números: \n",
    "\n",
    "0 => False\n",
    "2 => True\n",
    "73 => True\n",
    "-1 => False\n",
    "5099 => True"
   ]
  },
  {
   "cell_type": "code",
   "execution_count": 68,
   "metadata": {},
   "outputs": [],
   "source": [
    "def primos(num):\n",
    "    if num < 1:\n",
    "        return False\n",
    "    elif num == 2:\n",
    "        return True\n",
    "    else: \n",
    "        for x in range(2, num):\n",
    "            if num % x == 0:\n",
    "                return False\n",
    "            return True"
   ]
  },
  {
   "cell_type": "code",
   "execution_count": 69,
   "metadata": {},
   "outputs": [
    {
     "data": {
      "text/plain": [
       "False"
      ]
     },
     "execution_count": 69,
     "metadata": {},
     "output_type": "execute_result"
    }
   ],
   "source": [
    "primos(0)"
   ]
  },
  {
   "cell_type": "code",
   "execution_count": 70,
   "metadata": {},
   "outputs": [
    {
     "data": {
      "text/plain": [
       "True"
      ]
     },
     "execution_count": 70,
     "metadata": {},
     "output_type": "execute_result"
    }
   ],
   "source": [
    "primos(2)"
   ]
  },
  {
   "cell_type": "code",
   "execution_count": 71,
   "metadata": {},
   "outputs": [
    {
     "data": {
      "text/plain": [
       "True"
      ]
     },
     "execution_count": 71,
     "metadata": {},
     "output_type": "execute_result"
    }
   ],
   "source": [
    "primos(73)"
   ]
  },
  {
   "cell_type": "code",
   "execution_count": 72,
   "metadata": {},
   "outputs": [
    {
     "data": {
      "text/plain": [
       "False"
      ]
     },
     "execution_count": 72,
     "metadata": {},
     "output_type": "execute_result"
    }
   ],
   "source": [
    "primos(-1)"
   ]
  },
  {
   "cell_type": "code",
   "execution_count": 73,
   "metadata": {},
   "outputs": [
    {
     "data": {
      "text/plain": [
       "True"
      ]
     },
     "execution_count": 73,
     "metadata": {},
     "output_type": "execute_result"
    }
   ],
   "source": [
    "primos(5099)"
   ]
  },
  {
   "cell_type": "markdown",
   "metadata": {},
   "source": [
    "5. Probablemente conozcais el sistema de \"me gusta\" de Facebook y otras páginas. La gente puede dar \"me gusta\" a las publicaciones del blog, a las imágenes o a otros elementos. Queremos crear el texto que debe mostrarse junto a dicho elemento.\n",
    "Cread una función que toma una lista que contiene los nombres de las personas a las que les gusta un artículo. Debe devolver el texto que se muestra en los ejemplos:"
   ]
  },
  {
   "cell_type": "code",
   "execution_count": null,
   "metadata": {},
   "outputs": [],
   "source": [
    "Probad los siguientes ejemplos: \n",
    "\n",
    "[]                              -->  \"A nadie le gusta esto\"\n",
    "[\"Paola\"]                       -->  \"A Peter le gusta esto\"\n",
    "[\"Jacoba\", \"Alex\"]               -->  \"A Jacob y Alex les gusta esto\"\n",
    "[\"Maria\", \"Juana\", \"Lola\"]         -->  \"A Max, John y Mark les gusta esto\"\n",
    "[\"Alex\", \"Jacoba\", \"Lola\", \"Carmen\"]-->  \"A Alex, Jacob y 2 más les gusta esto\"\n",
    "[\"Alex\", \"Jacoba\", \"Lola\", \"Carmen\", \"Mariana\"]-->  \"A Alex, Jacoba y 3 más les gusta esto\""
   ]
  },
  {
   "cell_type": "markdown",
   "metadata": {},
   "source": [
    "Nota: Para 4 o más nombres, el número en \"y otros 2\" simplemente aumenta."
   ]
  },
  {
   "cell_type": "code",
   "execution_count": 74,
   "metadata": {},
   "outputs": [],
   "source": [
    "def megusta (lista):\n",
    "    if len(lista) == 0:\n",
    "        return \"A nadie le gusta esto\"\n",
    "    elif len(lista) == 1:\n",
    "        return f\"A {lista[0]} le gusta esto\"\n",
    "    elif len(lista) == 2:\n",
    "        return f\"A {lista[0]} y {lista[1]} les gusta esto\"\n",
    "    elif len(lista) == 3:\n",
    "        return f\"A {lista[0]}, {lista[1]} y {lista[2]} les gusta esto\"\n",
    "    else:\n",
    "        return f\"A {lista[0]}, {lista[1]} y {len(lista)-2} más les gusta esto\""
   ]
  },
  {
   "cell_type": "code",
   "execution_count": 75,
   "metadata": {},
   "outputs": [
    {
     "data": {
      "text/plain": [
       "'A nadie le gusta esto'"
      ]
     },
     "execution_count": 75,
     "metadata": {},
     "output_type": "execute_result"
    }
   ],
   "source": [
    "megusta([])"
   ]
  },
  {
   "cell_type": "code",
   "execution_count": 76,
   "metadata": {},
   "outputs": [
    {
     "data": {
      "text/plain": [
       "'A Paola le gusta esto'"
      ]
     },
     "execution_count": 76,
     "metadata": {},
     "output_type": "execute_result"
    }
   ],
   "source": [
    "megusta([\"Paola\"])"
   ]
  },
  {
   "cell_type": "code",
   "execution_count": 77,
   "metadata": {},
   "outputs": [
    {
     "data": {
      "text/plain": [
       "'A Jacoba y Alex les gusta esto'"
      ]
     },
     "execution_count": 77,
     "metadata": {},
     "output_type": "execute_result"
    }
   ],
   "source": [
    "megusta([\"Jacoba\", \"Alex\"])"
   ]
  },
  {
   "cell_type": "code",
   "execution_count": 78,
   "metadata": {},
   "outputs": [
    {
     "data": {
      "text/plain": [
       "'A Maria, Juana y Lola les gusta esto'"
      ]
     },
     "execution_count": 78,
     "metadata": {},
     "output_type": "execute_result"
    }
   ],
   "source": [
    "megusta([\"Maria\", \"Juana\", \"Lola\"])"
   ]
  },
  {
   "cell_type": "code",
   "execution_count": 79,
   "metadata": {},
   "outputs": [
    {
     "data": {
      "text/plain": [
       "'A Alex, Jacoba y 2 más les gusta esto'"
      ]
     },
     "execution_count": 79,
     "metadata": {},
     "output_type": "execute_result"
    }
   ],
   "source": [
    "megusta([\"Alex\", \"Jacoba\", \"Lola\", \"Carmen\"])"
   ]
  },
  {
   "cell_type": "code",
   "execution_count": 80,
   "metadata": {},
   "outputs": [
    {
     "data": {
      "text/plain": [
       "'A Alex, Jacoba y 3 más les gusta esto'"
      ]
     },
     "execution_count": 80,
     "metadata": {},
     "output_type": "execute_result"
    }
   ],
   "source": [
    "megusta([\"Alex\", \"Jacoba\", \"Lola\", \"Carmen\", \"Mariana\"])"
   ]
  }
 ],
 "metadata": {
  "kernelspec": {
   "display_name": "Python 3.9.7 ('base')",
   "language": "python",
   "name": "python3"
  },
  "language_info": {
   "codemirror_mode": {
    "name": "ipython",
    "version": 3
   },
   "file_extension": ".py",
   "mimetype": "text/x-python",
   "name": "python",
   "nbconvert_exporter": "python",
   "pygments_lexer": "ipython3",
   "version": "3.9.7"
  },
  "orig_nbformat": 4,
  "vscode": {
   "interpreter": {
    "hash": "a132548e790cb25f951c67ed157520233be95043d6eb3836371ed4d98e90df31"
   }
  }
 },
 "nbformat": 4,
 "nbformat_minor": 2
}
