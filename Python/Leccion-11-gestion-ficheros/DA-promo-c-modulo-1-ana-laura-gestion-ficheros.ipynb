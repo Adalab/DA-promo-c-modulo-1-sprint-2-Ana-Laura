{
 "cells": [
  {
   "cell_type": "markdown",
   "metadata": {},
   "source": [
    "Esta función debe incluir el código que:\n",
    "\n",
    "Nos muestre en que carpeta estamos trabajando.\n",
    "\n",
    "Cree una carpeta que se llame \"aprendiendo-ficheros\". ⚠️ Tened en cuenta que si la carpeta ya existe no la podemos crear, nos devolverá un error. Incluye en la función un programa que evite que nos de un error si la carpeta ya existe.\n",
    "\n",
    "Cree otra carpeta que se llame \"datos\" dentro de la carpeta \"aprendiendo-ficheros\". En esta carpeta \"datos\" guardaremos el fichero \"saludo.txt\" que os habéis descargado.\n",
    "\n",
    "Cambiad el directorio de trabajo a la carpeta \"datos\". Antes de seguir chequead que estáis trabajando en la carpeta \"datos\".\n",
    "\n",
    "Cambiad el nombre de la carpeta creada en el punto 2 a \"primera-toma-contacto\"\n",
    "\n",
    "💡 Pistas para resolver este ejercicio 💡 Esta función debe incluir el código que:\n",
    "\n",
    "La función tendrá que recibir 3 parámetros:\n",
    "\n",
    "El nombre del nombre de la primera carpeta\n",
    "\n",
    "El nombre de la carpeta segunda carpeta\n",
    "\n",
    "El nombre con el que queramos cambiar el nombre de la primera carpeta creada\n",
    "\n",
    "Para saber si las carpetas ya existen tendréis que usar lstdir(recordad que nos devuelve una lista de ficheros y carpetas).\n",
    "\n",
    "Para poder controlar los errores tendremos que usar un if loop, que si el fichero existe, nos devuelva un mensaje de que el fichero ya existe. En caso de que no exista, los deberéis crear y que la función nos muestre un mensaje de que se ha creado.\n",
    "\n",
    "Tendréis que ir cambiando de directorio para poder crear las carpetas y cambiar sus nombres."
   ]
  },
  {
   "cell_type": "code",
   "execution_count": 1,
   "metadata": {},
   "outputs": [],
   "source": [
    "import os\n",
    "import shutil"
   ]
  },
  {
   "cell_type": "code",
   "execution_count": 43,
   "metadata": {},
   "outputs": [
    {
     "data": {
      "text/plain": [
       "'/Users/DataAnalytics/Documents/Adalab/pair_programming/Ana_Laura/DA-promo-c-modulo-1-sprint-2-Ana-Laura/Python/Leccion-11-gestion-ficheros'"
      ]
     },
     "execution_count": 43,
     "metadata": {},
     "output_type": "execute_result"
    }
   ],
   "source": [
    "ubicacion = os.getcwd()\n",
    "ubicacion"
   ]
  },
  {
   "cell_type": "code",
   "execution_count": 42,
   "metadata": {},
   "outputs": [],
   "source": [
    "os.chdir(\"/Users/DataAnalytics/Documents/Adalab/pair_programming/Ana_Laura/DA-promo-c-modulo-1-sprint-2-Ana-Laura/Python/Leccion-11-gestion-ficheros\")"
   ]
  },
  {
   "cell_type": "code",
   "execution_count": 44,
   "metadata": {},
   "outputs": [],
   "source": [
    "def primera_funcion(carpeta1, carpeta2, carpeta_nueva):\n",
    "    ubicacion = os.getcwd()\n",
    "    ubicacion\n",
    "    if carpeta1 in os.listdir():\n",
    "        print(\"Este fichero 1 ya existe.\")\n",
    "        os.chdir(carpeta1)\n",
    "    else:\n",
    "        os.mkdir(carpeta1)\n",
    "        print(\"Se ha creado\", carpeta1)\n",
    "        os.chdir(carpeta1)\n",
    "    \n",
    "    print(os.getcwd())\n",
    "\n",
    "    if carpeta2 in os.listdir():\n",
    "        print(\"Este fichero 2 ya existe.\")\n",
    "        os.chdir(carpeta2)\n",
    "    else:\n",
    "        os.mkdir(carpeta2)\n",
    "        print(\"Se ha creado\", carpeta2)\n",
    "        os.chdir(carpeta2)\n",
    " \n",
    "    print(os.getcwd())\n",
    "\n",
    "    os.chdir(\"../../\")\n",
    "    \n",
    "    print(os.getcwd())\n",
    "\n",
    "    if carpeta_nueva in os.listdir():\n",
    "        print(\"Este fichero 3 ya existe.\")\n",
    "    else: \n",
    "        os.rename(carpeta1, carpeta_nueva)"
   ]
  },
  {
   "cell_type": "code",
   "execution_count": 45,
   "metadata": {},
   "outputs": [
    {
     "name": "stdout",
     "output_type": "stream",
     "text": [
      "Este fichero 1 ya existe.\n",
      "/Users/DataAnalytics/Documents/Adalab/pair_programming/Ana_Laura/DA-promo-c-modulo-1-sprint-2-Ana-Laura/Python/Leccion-11-gestion-ficheros/aprendiendo-ficheros\n",
      "Este fichero 2 ya existe.\n",
      "/Users/DataAnalytics/Documents/Adalab/pair_programming/Ana_Laura/DA-promo-c-modulo-1-sprint-2-Ana-Laura/Python/Leccion-11-gestion-ficheros/aprendiendo-ficheros/datos\n",
      "/Users/DataAnalytics/Documents/Adalab/pair_programming/Ana_Laura/DA-promo-c-modulo-1-sprint-2-Ana-Laura/Python/Leccion-11-gestion-ficheros\n"
     ]
    }
   ],
   "source": [
    "primera_funcion(\"aprendiendo-ficheros\", \"datos\", \"primera-toma-contacto\")"
   ]
  },
  {
   "cell_type": "code",
   "execution_count": 50,
   "metadata": {},
   "outputs": [],
   "source": [
    "os.chdir(\"./primera-toma-contacto/datos\")"
   ]
  },
  {
   "cell_type": "code",
   "execution_count": 51,
   "metadata": {},
   "outputs": [
    {
     "data": {
      "text/plain": [
       "'/Users/DataAnalytics/Documents/Adalab/pair_programming/Ana_Laura/DA-promo-c-modulo-1-sprint-2-Ana-Laura/Python/Leccion-11-gestion-ficheros/primera-toma-contacto/datos'"
      ]
     },
     "execution_count": 51,
     "metadata": {},
     "output_type": "execute_result"
    }
   ],
   "source": [
    "ubicacion = os.getcwd()\n",
    "ubicacion"
   ]
  },
  {
   "cell_type": "code",
   "execution_count": 69,
   "metadata": {},
   "outputs": [],
   "source": [
    "# Primero visualizamos en qué carpeta nos encontramos, si ya estamos en la correcta, lo dejamos así.\n",
    "# Si no, le pedimos al usuario que nos de la ruta, y cambiamos a la carpeta correcta.\n",
    "# Una vez ahi, abrimos el archivo para leerlo y le pedimos que nos lo muestre entero.\n",
    "# Usamos el readlines para poder indexar la lista y buscar la línea 4.\n",
    "\n",
    "def segunda_funcion():\n",
    "    ubicacion = os.getcwd()\n",
    "    ubicacion\n",
    "    if \"datos\" in ubicacion:\n",
    "        pass\n",
    "    else: \n",
    "        ubicacion2 = input(\"¿En qué carpeta tienes la carpeta datos?\")\n",
    "        os.getcwd(ubicacion2)\n",
    "    with open('saludo.txt', 'r') as f:\n",
    "        texto = f.readlines()\n",
    "        print(texto)\n",
    "        print(texto[4])\n",
    "    \n",
    "    f.close()"
   ]
  },
  {
   "cell_type": "code",
   "execution_count": 67,
   "metadata": {},
   "outputs": [
    {
     "name": "stdout",
     "output_type": "stream",
     "text": [
      "['Hola Adalabers!!!\\n', '\\n', 'Estamos en la sesión de pair-programming para familiarizarnos con la gestión de carpetas y ficheros desde Python 🙂🌊\\n', '\\n', 'Esto esta siendo suuuper divertidooooo']\n",
      "Esto esta siendo suuuper divertidooooo\n"
     ]
    }
   ],
   "source": [
    "segunda_funcion()"
   ]
  },
  {
   "cell_type": "code",
   "execution_count": null,
   "metadata": {},
   "outputs": [],
   "source": []
  }
 ],
 "metadata": {
  "kernelspec": {
   "display_name": "Python 3.9.7 ('base')",
   "language": "python",
   "name": "python3"
  },
  "language_info": {
   "codemirror_mode": {
    "name": "ipython",
    "version": 3
   },
   "file_extension": ".py",
   "mimetype": "text/x-python",
   "name": "python",
   "nbconvert_exporter": "python",
   "pygments_lexer": "ipython3",
   "version": "3.9.7"
  },
  "orig_nbformat": 4,
  "vscode": {
   "interpreter": {
    "hash": "a132548e790cb25f951c67ed157520233be95043d6eb3836371ed4d98e90df31"
   }
  }
 },
 "nbformat": 4,
 "nbformat_minor": 2
}
