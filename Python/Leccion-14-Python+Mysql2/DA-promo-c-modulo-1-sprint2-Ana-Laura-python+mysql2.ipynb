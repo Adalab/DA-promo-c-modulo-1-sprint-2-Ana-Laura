{
 "cells": [
  {
   "cell_type": "markdown",
   "metadata": {},
   "source": [
    "Objetivos\n",
    "\n",
    "Durante la clase de pair programming de ayer nos creamos nuestra primerita BBDD desde cero en Workbench. En el ejercicio de hoy volveremos a crear esa misma BBDD, pero esta vez desde Python.\n",
    "\n",
    "📌 NOTA Cambiad el nombre de la BBDD a mi_primerita_BBDD_Python\n",
    "\n",
    "📌 NOTA Cuando creeis las distintas tablas de vuestra BBDD repetereis la mismas lineas de código una y otra vez. Para evitar esto, crearos una función que nos sirva para crear tablas independientemente del contenido de la tabla. La función recibirá como parámetros:\n",
    "\n",
    "- Contraseña de la conexión al servidor.\n",
    "\n",
    "- Query para crear la tabla.\n",
    "\n",
    "A modo de recap de lo que contenía la BBDD:\n",
    "\n",
    "Tabla Zapatillas: tiene 4 columnas: id, modelo, color, talla con las siguientes características:\n",
    "- idZapatillas: es una clave primaria de tipo int, autoincremental y no nula.\n",
    "- Modelo: es una cadena de caracteres de longitud máxima de 45 caracteres, no nula.\n",
    "- Color: es una cadena de caracteres de longitud máxima de 45 caracteres, no nula.\n",
    "- Talla: es entero, no nula.\n",
    "\n",
    "Tabla Clientes: tiene 9 columnas idcliente, nombre, numero_telefono, email, direccion, ciudad, provincia, pais, codigo_postal con las siguientes características:\n",
    "- idEmpleado: es una clave primaria de tipo int, autoincremental y no nula.\n",
    "- Nombre: es una cadena de caracteres de longitud máxima de 45 caracteres, no nula.\n",
    "- Numero_telefono: es un entero de longitud máxima de 9 caracteres, no nula.\n",
    "- Email: es una cadena de caracteres de longitud máxima de 45 caracteres, no nula.\n",
    "- Direccion: es una cadena de caracteres de longitud máxima de 45 caracteres, no nula.\n",
    "- Ciudad: es una cadena de caracteres de longitud máxima de 45 caracteres, puede ser nula.\n",
    "- Provincia: es una cadena de caracteres de longitud máxima de 45 caracteres, no nula.\n",
    "- Pais: es una cadena de caracteres de longitud máxima de 45 caracteres, no nula.\n",
    "- Codigo_postal: entero de máxima longitud 9, no nula.\n",
    "\n",
    "Tabla Empleados: tiene 5 columnas idEmpleado, nombre, tienda, salario, fecha_incorporacion con las siguientes características:\n",
    "- idEmpleado: es una clave primaria de tipo int, autoincremental y no nula.\n",
    "- Nombre: es una cadena de caracteres de longitud máxima de 45 caracteres, no nula.\n",
    "- Tienda: es una cadena de caracteres de longitud máxima de 45 caracteres, no nula.\n",
    "- salario: es decimal, puede ser nula.\n",
    "- fecha_incorporacion: es una columna de tipo date, no nula.\n",
    "\n",
    "Tabla Facturas: tiene 5 columnas idFactura, idEmpleado, idCliente, fecha, total con las siguientes características:\n",
    "- idFactura: es una clave primaria de tipo int, autoincremental y no nula.\n",
    "- idEmpleado: es una clave foránea de tipo int, no nula.\n",
    "- idCliente: es una clave foránea de tipo int, no nula.\n",
    "- idZapatilla: es una clave foránea de tipo int, no nula\n",
    "- Fecha: es una columna de tipo date, no nula.\n",
    "- Total: es decimal, no nula.\n",
    "\n",
    "\n",
    "📌 NOTA En esta última tabla tendremos que incluir todos los CONSTRAINT necesarios para establecer los relaciones entre las tablas, donde tendremos que especificar:\n",
    "- Foreign Key\n",
    "- References"
   ]
  },
  {
   "cell_type": "code",
   "execution_count": 1,
   "metadata": {},
   "outputs": [
    {
     "name": "stdout",
     "output_type": "stream",
     "text": [
      "MySQLCursor: CREATE DATABASE mi_primerita_BBDD_Python\n"
     ]
    }
   ],
   "source": [
    "# Creamos nuestra base de datos:\n",
    "\n",
    "import mysql.connector\n",
    "\n",
    "cnx = mysql.connector.connect(user = 'root', password = 'AlumnaAdalab', host = '127.0.0.1')\n",
    "\n",
    "mycursor = cnx.cursor()\n",
    "try:\n",
    "    mycursor.execute(\"CREATE DATABASE mi_primerita_BBDD_Python\")\n",
    "    print(mycursor)\n",
    "\n",
    "except mysql.connector.Error as err:\n",
    "        print(err)\n",
    "        print(\"error code:\", err.errno)\n",
    "        print(\"SQLSTATE\", err.sqlstate)\n",
    "        print(\"message\", err.msg)\n"
   ]
  },
  {
   "cell_type": "code",
   "execution_count": 3,
   "metadata": {},
   "outputs": [],
   "source": [
    "# Creamos una función para poder usar varias querys:\n",
    "\n",
    "def creacion_tablas(query):\n",
    "    \n",
    "    import mysql.connector\n",
    "\n",
    "    cnx = mysql.connector.connect(user = 'root', password = 'AlumnaAdalab', host = '127.0.0.1', database = 'mi_primerita_BBDD_Python')\n",
    "\n",
    "    mycursor = cnx.cursor()\n",
    "    try:\n",
    "        mycursor.execute(query)\n",
    "        print(mycursor)\n",
    "\n",
    "    except mysql.connector.Error as err:\n",
    "        print(err)\n",
    "        print(\"error code:\", err.errno)\n",
    "        print(\"SQLSTATE\", err.sqlstate)\n",
    "        print(\"message\", err.msg)\n"
   ]
  },
  {
   "cell_type": "code",
   "execution_count": 9,
   "metadata": {},
   "outputs": [],
   "source": [
    "tabla_zapatillas = '''CREATE TABLE zapatillas (\n",
    "id_zapatillas INT AUTO_INCREMENT NOT NULL,\n",
    "modelo VARCHAR(45) NOT NULL,\n",
    "color VARCHAR(45) NOT NULL,\n",
    "talla INT NOT NULL,\n",
    "PRIMARY KEY(id_zapatillas))'''"
   ]
  },
  {
   "cell_type": "code",
   "execution_count": 5,
   "metadata": {},
   "outputs": [],
   "source": [
    "tabla_clientes = '''CREATE TABLE clientes (\n",
    "    id_cliente INT NOT NULL AUTO_INCREMENT,\n",
    "\tnombre VARCHAR (45) NOT NULL,\n",
    "\tnumero_telefono INT NOT NULL,\n",
    "\temail VARCHAR (45) NOT NULL,\n",
    "\tdireccion VARCHAR (45) NOT NULL,\n",
    "\tciudad VARCHAR (45),\n",
    "\tprovincia VARCHAR (45) NOT NULL,\n",
    "\tpais VARCHAR (45) NOT NULL,\n",
    "\tcodigo_postal VARCHAR (45) NOT NULL,\n",
    " PRIMARY KEY (id_cliente))'''"
   ]
  },
  {
   "cell_type": "code",
   "execution_count": 6,
   "metadata": {},
   "outputs": [],
   "source": [
    "tabla_empleados = '''CREATE TABLE empleados (\n",
    "    id_empleados INT AUTO_INCREMENT NOT NULL,\n",
    "    nombre VARCHAR(45) NOT NULL,\n",
    "    tienda VARCHAR(45) NOT NULL,\n",
    "    salario INT DEFAULT NULL,\n",
    "    fecha_incorporacion DATE NOT NULL,\n",
    "    PRIMARY KEY (id_empleados))'''"
   ]
  },
  {
   "cell_type": "code",
   "execution_count": 7,
   "metadata": {},
   "outputs": [],
   "source": [
    "tabla_facturas = '''CREATE TABLE facturas (\n",
    "    id_factura INT AUTO_INCREMENT NOT NULL,\n",
    "    id_zapatillas INT NOT NULL,\n",
    "    id_empleados INT NOT NULL,\n",
    "    id_cliente INT NOT NULL,\n",
    "    fecha DATE NOT NULL,\n",
    "    total FLOAT NOT NULL,\n",
    "    PRIMARY KEY (id_factura),\n",
    "    CONSTRAINT `fk_facturas_zapatillas`\n",
    "        FOREIGN KEY (`id_zapatillas`)\n",
    "        REFERENCES `zapatillas` (id_zapatillas),\n",
    "    CONSTRAINT `fk_facturas_empleados`\n",
    "        FOREIGN KEY (`id_empleados`)\n",
    "        REFERENCES `empleados` (id_empleados),\n",
    "    CONSTRAINT `fk_facturas_clientes`\n",
    "        FOREIGN KEY (`id_cliente`)\n",
    "        REFERENCES `clientes` (id_cliente))'''\n",
    "    "
   ]
  },
  {
   "cell_type": "code",
   "execution_count": 10,
   "metadata": {},
   "outputs": [
    {
     "name": "stdout",
     "output_type": "stream",
     "text": [
      "MySQLCursor: CREATE TABLE zapatillas (\n",
      "id_zapatillas ..\n"
     ]
    }
   ],
   "source": [
    "creacion_tablas(tabla_zapatillas)"
   ]
  },
  {
   "cell_type": "code",
   "execution_count": 11,
   "metadata": {},
   "outputs": [
    {
     "name": "stdout",
     "output_type": "stream",
     "text": [
      "MySQLCursor: CREATE TABLE clientes (\n",
      "    id_cliente I..\n"
     ]
    }
   ],
   "source": [
    "creacion_tablas(tabla_clientes)"
   ]
  },
  {
   "cell_type": "code",
   "execution_count": 12,
   "metadata": {},
   "outputs": [
    {
     "name": "stdout",
     "output_type": "stream",
     "text": [
      "MySQLCursor: CREATE TABLE empleados (\n",
      "    id_empleado..\n"
     ]
    }
   ],
   "source": [
    "creacion_tablas(tabla_empleados)"
   ]
  },
  {
   "cell_type": "code",
   "execution_count": 13,
   "metadata": {},
   "outputs": [
    {
     "name": "stdout",
     "output_type": "stream",
     "text": [
      "MySQLCursor: CREATE TABLE facturas (\n",
      "    id_factura I..\n"
     ]
    }
   ],
   "source": [
    "creacion_tablas(tabla_facturas)"
   ]
  }
 ],
 "metadata": {
  "kernelspec": {
   "display_name": "Python 3.9.7 ('base')",
   "language": "python",
   "name": "python3"
  },
  "language_info": {
   "codemirror_mode": {
    "name": "ipython",
    "version": 3
   },
   "file_extension": ".py",
   "mimetype": "text/x-python",
   "name": "python",
   "nbconvert_exporter": "python",
   "pygments_lexer": "ipython3",
   "version": "3.9.7"
  },
  "orig_nbformat": 4,
  "vscode": {
   "interpreter": {
    "hash": "a132548e790cb25f951c67ed157520233be95043d6eb3836371ed4d98e90df31"
   }
  }
 },
 "nbformat": 4,
 "nbformat_minor": 2
}
